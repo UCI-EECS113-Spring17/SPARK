{
 "cells": [
  {
   "cell_type": "code",
   "execution_count": 127,
   "metadata": {
    "collapsed": false
   },
   "outputs": [],
   "source": [
    "from pynq import Overlay\n",
    "from pynq.iop import Pmod_IO\n",
    "from pynq.iop import Arduino_IO\n",
    "from pynq.iop import pmod_adc\n",
    "from pynq.iop import Pmod_ADC\n",
    "from pynq.iop import PMODA\n",
    "from pynq.iop import Pmod_Timer\n",
    "import time \n",
    "\n",
    "\n",
    "Overlay(\"base.bit\").download()"
   ]
  },
  {
   "cell_type": "code",
   "execution_count": 129,
   "metadata": {
    "collapsed": false
   },
   "outputs": [
    {
     "data": {
      "text/plain": [
       "1"
      ]
     },
     "execution_count": 129,
     "metadata": {},
     "output_type": "execute_result"
    }
   ],
   "source": [
    "a=Arduino_IO(3, 0, \"in\")\n",
    "p=Pmod_IO(1, 1, \"out\")\n",
    "p.write(1)\n",
    "a.read()\n",
    " "
   ]
  },
  {
   "cell_type": "code",
   "execution_count": null,
   "metadata": {
    "collapsed": false
   },
   "outputs": [],
   "source": [
    "i=0\n",
    "while i<20:\n",
    "    p.write(0)\n",
    "    time.sleep(0.1)\n",
    "    p.write(1) \n",
    "    time.sleep(0.5)\n",
    "    p.write(0)\n",
    "    print(a.read())\n",
    "    i+=1\n",
    "    "
   ]
  },
  {
   "cell_type": "code",
   "execution_count": null,
   "metadata": {
    "collapsed": true
   },
   "outputs": [],
   "source": []
  },
  {
   "cell_type": "code",
   "execution_count": null,
   "metadata": {
    "collapsed": true
   },
   "outputs": [],
   "source": []
  }
 ],
 "metadata": {
  "kernelspec": {
   "display_name": "Python 3",
   "language": "python",
   "name": "python3"
  },
  "language_info": {
   "codemirror_mode": {
    "name": "ipython",
    "version": 3
   },
   "file_extension": ".py",
   "mimetype": "text/x-python",
   "name": "python",
   "nbconvert_exporter": "python",
   "pygments_lexer": "ipython3",
   "version": "3.6.0"
  }
 },
 "nbformat": 4,
 "nbformat_minor": 2
}
