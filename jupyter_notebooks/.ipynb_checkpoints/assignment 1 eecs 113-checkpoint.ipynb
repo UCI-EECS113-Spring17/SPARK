{
 "cells": [
  {
   "cell_type": "code",
   "execution_count": 45,
   "metadata": {
    "collapsed": true
   },
   "outputs": [],
   "source": [
    "from pynq import Overlay\n",
    "from pynq.board import LED\n",
    "from pynq.board import RGBLED\n",
    "from pynq.board import Switch\n",
    "from pynq.board import Button\n",
    "import time\n",
    "\n",
    "Overlay(\"base.bit\").download()"
   ]
  },
  {
   "cell_type": "code",
   "execution_count": 68,
   "metadata": {
    "collapsed": false
   },
   "outputs": [],
   "source": [
    "MAX_LEDS = 4\n",
    "MAX_SWITCHES = 2\n",
    "MAX_BUTTONS = 4\n",
    "\n",
    "leds = [0] * MAX_LEDS\n",
    "switches = [0] * MAX_SWITCHES\n",
    "buttons = [0] * MAX_BUTTONS\n",
    "\n",
    "for i in range(MAX_LEDS):\n",
    "    led[i] = LED(i)\n",
    "for i in range(MAX_SWITCHES):\n",
    "    switches[i] = Switch(i)\n",
    "for i in range(MAX_BUTTONS):\n",
    "    buttons[i] = Button(i)"
   ]
  },
  {
   "cell_type": "code",
   "execution_count": 61,
   "metadata": {
    "collapsed": true
   },
   "outputs": [],
   "source": [
    "def clear_LEDs(LED_nos=list(range(MAX_LEDS))):\n",
    "    \"\"\"Clear LEDS LD3-0 or the LEDs whose numbers appear in the list\"\"\"\n",
    "    for i in LED_nos:\n",
    "        leds[i].off()\n",
    "\n",
    "clear_LEDs()"
   ]
  },
  {
   "cell_type": "code",
   "execution_count": 77,
   "metadata": {
    "collapsed": false
   },
   "outputs": [],
   "source": [
    "while True:\n",
    "    if switches[0].read() and switches[1].read():\n",
    "        clear_LEDs()\n",
    "        leds[3].on()\n",
    "    elif switches[0].read():\n",
    "        clear_LEDs()\n",
    "        leds[1].on()\n",
    "    elif switches[1].read():\n",
    "        clear_LEDs()\n",
    "        leds[2].on()\n",
    "    else:\n",
    "        clear_LEDs()\n",
    "        leds[0].on()\n",
    "    \n",
    "#ime.sleep(0.5)\n",
    "    if buttons[0].read() or buttons[1].read() or buttons[2].read() or buttons[3].read():\n",
    "        clear_LEDs()\n",
    "        break\n",
    "            "
   ]
  },
  {
   "cell_type": "code",
   "execution_count": null,
   "metadata": {
    "collapsed": true
   },
   "outputs": [],
   "source": []
  },
  {
   "cell_type": "code",
   "execution_count": null,
   "metadata": {
    "collapsed": true
   },
   "outputs": [],
   "source": []
  }
 ],
 "metadata": {
  "kernelspec": {
   "display_name": "Python 3",
   "language": "python",
   "name": "python3"
  },
  "language_info": {
   "codemirror_mode": {
    "name": "ipython",
    "version": 3
   },
   "file_extension": ".py",
   "mimetype": "text/x-python",
   "name": "python",
   "nbconvert_exporter": "python",
   "pygments_lexer": "ipython3",
   "version": "3.6.0"
  }
 },
 "nbformat": 4,
 "nbformat_minor": 2
}
