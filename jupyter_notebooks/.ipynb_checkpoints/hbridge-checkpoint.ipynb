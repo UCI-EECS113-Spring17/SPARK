{
 "cells": [
  {
   "cell_type": "code",
   "execution_count": 1,
   "metadata": {
    "collapsed": true,
    "deletable": true,
    "editable": true
   },
   "outputs": [],
   "source": [
    "from pynq import Overlay\n",
    "from pynq.iop import arduino_analog\n",
    "from pynq.iop import Arduino_Analog\n",
    "from pynq.iop import pmod_pwm\n",
    "from pynq.iop import Pmod_PWM\n",
    "from pynq.iop import pmod_io\n",
    "from pynq.iop import Pmod_IO\n",
    "\n",
    "Overlay(\"base.bit\").download()"
   ]
  },
  {
   "cell_type": "code",
   "execution_count": 2,
   "metadata": {
    "collapsed": false,
    "deletable": true,
    "editable": true
   },
   "outputs": [
    {
     "ename": "NameError",
     "evalue": "name 'time' is not defined",
     "output_type": "error",
     "traceback": [
      "\u001b[0;31m---------------------------------------------------------------------------\u001b[0m",
      "\u001b[0;31mNameError\u001b[0m                                 Traceback (most recent call last)",
      "\u001b[0;32m<ipython-input-2-52f04d746b32>\u001b[0m in \u001b[0;36m<module>\u001b[0;34m()\u001b[0m\n\u001b[1;32m      6\u001b[0m \u001b[0mwheel4\u001b[0m \u001b[0;34m=\u001b[0m \u001b[0mPmod_IO\u001b[0m\u001b[0;34m(\u001b[0m\u001b[0;36m1\u001b[0m\u001b[0;34m,\u001b[0m \u001b[0;36m5\u001b[0m\u001b[0;34m,\u001b[0m \u001b[0;34m\"out\"\u001b[0m\u001b[0;34m)\u001b[0m\u001b[0;34m\u001b[0m\u001b[0m\n\u001b[1;32m      7\u001b[0m \u001b[0;34m\u001b[0m\u001b[0m\n\u001b[0;32m----> 8\u001b[0;31m \u001b[0mtime\u001b[0m\u001b[0;34m.\u001b[0m\u001b[0msleep\u001b[0m\u001b[0;34m(\u001b[0m\u001b[0;36m10\u001b[0m\u001b[0;34m)\u001b[0m\u001b[0;34m\u001b[0m\u001b[0m\n\u001b[0m\u001b[1;32m      9\u001b[0m \u001b[0;34m\u001b[0m\u001b[0m\n\u001b[1;32m     10\u001b[0m \u001b[0mwheel1\u001b[0m\u001b[0;34m.\u001b[0m\u001b[0mwrite\u001b[0m\u001b[0;34m(\u001b[0m\u001b[0;36m1\u001b[0m\u001b[0;34m)\u001b[0m\u001b[0;34m\u001b[0m\u001b[0m\n",
      "\u001b[0;31mNameError\u001b[0m: name 'time' is not defined"
     ]
    }
   ],
   "source": [
    "from pynq.iop import PMODA\n",
    "pwm1 = Pmod_PWM(2,0)\n",
    "wheel1 = Pmod_IO(1, 0,\"out\")\n",
    "wheel2 = Pmod_IO(1, 1,\"out\")\n",
    "wheel3 = Pmod_IO(1, 4,\"out\")\n",
    "wheel4 = Pmod_IO(1, 5, \"out\")\n",
    "\n",
    "time.sleep(10)\n",
    "\n",
    "wheel1.write(1)\n",
    "wheel2.write(0)\n",
    "wheel3.write(1)\n",
    "wheel4.write(0)\n",
    "pwm1.generate(40000,50) #500 above for frequency\n",
    "time.sleep(5)\n",
    "\n",
    "\n",
    "wheel1.write(0)\n",
    "wheel2.write(1)\n",
    "wheel3.write(0)\n",
    "wheel4.write(1)\n",
    "pwm1.generate(40000,5000) #500 above for frequency\n",
    "time.sleep(5)\n",
    "\n",
    "\n",
    "wheel1.write(0)\n",
    "wheel2.write(1)\n",
    "wheel3.write(1)\n",
    "wheel4.write(0)\n",
    "pwm1.generate(40000,5000) #500 above for frequency\n",
    "time.sleep(5)\n",
    "\n",
    "\n",
    "wheel1.write(1)\n",
    "wheel2.write(0)\n",
    "wheel3.write(0)\n",
    "wheel4.write(1)\n",
    "pwm1.generate(40000,5000) #500 above for frequency\n",
    "time.sleep(5)\n",
    "\n",
    "\n"
   ]
  },
  {
   "cell_type": "code",
   "execution_count": null,
   "metadata": {
    "collapsed": true,
    "deletable": true,
    "editable": true
   },
   "outputs": [],
   "source": []
  },
  {
   "cell_type": "code",
   "execution_count": null,
   "metadata": {
    "collapsed": true,
    "deletable": true,
    "editable": true
   },
   "outputs": [],
   "source": []
  },
  {
   "cell_type": "code",
   "execution_count": null,
   "metadata": {
    "collapsed": true,
    "deletable": true,
    "editable": true
   },
   "outputs": [],
   "source": []
  }
 ],
 "metadata": {
  "kernelspec": {
   "display_name": "Python 3",
   "language": "python",
   "name": "python3"
  },
  "language_info": {
   "codemirror_mode": {
    "name": "ipython",
    "version": 3
   },
   "file_extension": ".py",
   "mimetype": "text/x-python",
   "name": "python",
   "nbconvert_exporter": "python",
   "pygments_lexer": "ipython3",
   "version": "3.6.0"
  }
 },
 "nbformat": 4,
 "nbformat_minor": 2
}
