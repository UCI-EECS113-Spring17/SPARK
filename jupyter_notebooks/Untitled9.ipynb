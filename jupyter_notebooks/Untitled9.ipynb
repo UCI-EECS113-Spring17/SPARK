{
 "cells": [
  {
   "cell_type": "code",
   "execution_count": 1,
   "metadata": {
    "collapsed": true
   },
   "outputs": [],
   "source": [
    "from pynq import Overlay\n",
    "from pynq.iop import pmod_pwm\n",
    "from pynq.iop import Pmod_PWM\n",
    "from pynq.iop import pmod_io\n",
    "from pynq.iop import Pmod_IO\n",
    "from pynq.iop import arduino_io\n",
    "from pynq.iop import Arduino_IO\n",
    "\n",
    "Overlay(\"base.bit\").download()"
   ]
  },
  {
   "cell_type": "code",
   "execution_count": 2,
   "metadata": {
    "collapsed": true
   },
   "outputs": [],
   "source": [
    "import time"
   ]
  },
  {
   "cell_type": "code",
   "execution_count": 3,
   "metadata": {
    "collapsed": false
   },
   "outputs": [],
   "source": [
    "trig = Pmod_PWM(1,0)\n",
    "#trig = Pmod_IO(1,0,\"out\")\n",
    "echo = Arduino_IO(3,7,\"in\")"
   ]
  },
  {
   "cell_type": "code",
   "execution_count": 7,
   "metadata": {
    "collapsed": false
   },
   "outputs": [
    {
     "name": "stdout",
     "output_type": "stream",
     "text": [
      "out\n",
      "out\n",
      "out\n",
      "out\n",
      "out\n",
      "out\n",
      "out\n",
      "out\n",
      "out\n",
      "out\n",
      "out\n",
      "out\n",
      "out\n",
      "out\n",
      "out\n",
      "out\n",
      "out\n",
      "out\n",
      "out\n",
      "out\n",
      "out\n",
      "out\n",
      "out\n",
      "out\n",
      "out\n",
      "out\n",
      "out\n",
      "out\n",
      "out\n",
      "out\n"
     ]
    }
   ],
   "source": [
    "for i in range (0, 30):\n",
    "    trig.generate(65500, 50)\n",
    "    #trig.write(0)\n",
    "    time.sleep(1)\n",
    "    echo.read()\n",
    "    print (\"out\")\n",
    "#for i in range (0, 10):\n",
    "#    echo.read()\n",
    "#    print (\"outside\")\n",
    "#    if echo.read()==1:\n",
    "#        print (\"read\")"
   ]
  },
  {
   "cell_type": "code",
   "execution_count": null,
   "metadata": {
    "collapsed": true
   },
   "outputs": [],
   "source": []
  },
  {
   "cell_type": "code",
   "execution_count": null,
   "metadata": {
    "collapsed": true
   },
   "outputs": [],
   "source": []
  }
 ],
 "metadata": {
  "kernelspec": {
   "display_name": "Python 3",
   "language": "python",
   "name": "python3"
  },
  "language_info": {
   "codemirror_mode": {
    "name": "ipython",
    "version": 3
   },
   "file_extension": ".py",
   "mimetype": "text/x-python",
   "name": "python",
   "nbconvert_exporter": "python",
   "pygments_lexer": "ipython3",
   "version": "3.6.0"
  }
 },
 "nbformat": 4,
 "nbformat_minor": 2
}
