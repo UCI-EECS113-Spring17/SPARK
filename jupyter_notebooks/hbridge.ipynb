{
 "cells": [
  {
   "cell_type": "code",
   "execution_count": 13,
   "metadata": {
    "collapsed": true,
    "deletable": true,
    "editable": true
   },
   "outputs": [],
   "source": [
    "import time\n",
    "from pynq import Overlay\n",
    "from pynq.iop import arduino_analog\n",
    "from pynq.iop import Arduino_Analog\n",
    "from pynq.iop import pmod_pwm\n",
    "from pynq.iop import Pmod_PWM\n",
    "from pynq.iop import pmod_io\n",
    "from pynq.iop import Pmod_IO\n",
    "Overlay(\"base.bit\").download()\n"
   ]
  },
  {
   "cell_type": "code",
   "execution_count": 23,
   "metadata": {
    "collapsed": true,
    "deletable": true,
    "editable": true
   },
   "outputs": [],
   "source": [
    "from pynq.iop import PMODA\n",
    "pwm1 = Pmod_PWM(2,0)\n",
    "wheel1 = Pmod_IO(1, 0,\"out\")\n",
    "wheel2 = Pmod_IO(1, 1,\"out\")\n",
    "wheel3 = Pmod_IO(1, 2,\"out\")\n",
    "wheel4 = Pmod_IO(1, 3, \"out\")\n",
    "\n",
    "def turnRight():\n",
    "    #turn right\n",
    "    wheel1.write(1)\n",
    "    wheel2.write(0)\n",
    "    wheel3.write(1)\n",
    "    wheel4.write(0)\n",
    "    pwm1.generate(50000,75) #500 above for frequency\n",
    "    time.sleep(1.5)\n"
   ]
  },
  {
   "cell_type": "code",
   "execution_count": 24,
   "metadata": {
    "collapsed": true,
    "deletable": true,
    "editable": true
   },
   "outputs": [],
   "source": [
    "turnRight()"
   ]
  },
  {
   "cell_type": "code",
   "execution_count": 4,
   "metadata": {
    "collapsed": true,
    "deletable": true,
    "editable": true
   },
   "outputs": [],
   "source": [
    "from pynq.iop import PMODA\n",
    "pwm1 = Pmod_PWM(2,0)\n",
    "wheel1 = Pmod_IO(1, 0,\"out\")\n",
    "wheel2 = Pmod_IO(1, 1,\"out\")\n",
    "wheel3 = Pmod_IO(1, 2,\"out\")\n",
    "wheel4 = Pmod_IO(1, 3, \"out\")\n",
    "\n",
    "def forward():   \n",
    "    #forward\n",
    "    wheel1.write(1)\n",
    "    wheel2.write(0)\n",
    "    wheel3.write(0)\n",
    "    wheel4.write(1)\n",
    "    pwm1.generate(40000,50) #500 above for frequency\n",
    "\n"
   ]
  },
  {
   "cell_type": "code",
   "execution_count": 5,
   "metadata": {
    "collapsed": false,
    "deletable": true,
    "editable": true
   },
   "outputs": [],
   "source": [
    "forward()"
   ]
  },
  {
   "cell_type": "code",
   "execution_count": 26,
   "metadata": {
    "collapsed": true,
    "deletable": true,
    "editable": true
   },
   "outputs": [],
   "source": [
    "from pynq.iop import PMODA\n",
    "pwm1 = Pmod_PWM(2,0)\n",
    "wheel1 = Pmod_IO(1, 0,\"out\")\n",
    "wheel2 = Pmod_IO(1, 1,\"out\")\n",
    "wheel3 = Pmod_IO(1, 2,\"out\")\n",
    "wheel4 = Pmod_IO(1, 3, \"out\")\n",
    "\n",
    "def turnLeft():\n",
    "    #turn left\n",
    "    wheel1.write(0)\n",
    "    wheel2.write(1)\n",
    "    wheel3.write(1)\n",
    "    wheel4.write(0)\n",
    "    pwm1.generate(50000,75) #500 above for frequency\n",
    "    time.sleep(1.5)"
   ]
  },
  {
   "cell_type": "code",
   "execution_count": 27,
   "metadata": {
    "collapsed": false,
    "deletable": true,
    "editable": true
   },
   "outputs": [],
   "source": [
    "turnLeft()"
   ]
  },
  {
   "cell_type": "code",
   "execution_count": 5,
   "metadata": {
    "collapsed": false,
    "deletable": true,
    "editable": true
   },
   "outputs": [],
   "source": [
    "from pynq.iop import PMODA\n",
    "pwm1 = Pmod_PWM(2,0)\n",
    "wheel1 = Pmod_IO(1, 0,\"out\")\n",
    "wheel2 = Pmod_IO(1, 1,\"out\")\n",
    "wheel3 = Pmod_IO(1, 4,\"out\")\n",
    "wheel4 = Pmod_IO(1, 5, \"out\")\n",
    "\n",
    "time.sleep(2)\n",
    "def backward():\n",
    "    #backwards\n",
    "    wheel1.write(0)\n",
    "    wheel2.write(1)\n",
    "    wheel3.write(1)\n",
    "    wheel4.write(0)\n",
    "    pwm1.generate(1000,50) #500 above for frequency"
   ]
  },
  {
   "cell_type": "code",
   "execution_count": null,
   "metadata": {
    "collapsed": true,
    "deletable": true,
    "editable": true
   },
   "outputs": [],
   "source": []
  },
  {
   "cell_type": "code",
   "execution_count": null,
   "metadata": {
    "collapsed": true,
    "deletable": true,
    "editable": true
   },
   "outputs": [],
   "source": []
  }
 ],
 "metadata": {
  "kernelspec": {
   "display_name": "Python 3",
   "language": "python",
   "name": "python3"
  },
  "language_info": {
   "codemirror_mode": {
    "name": "ipython",
    "version": 3
   },
   "file_extension": ".py",
   "mimetype": "text/x-python",
   "name": "python",
   "nbconvert_exporter": "python",
   "pygments_lexer": "ipython3",
   "version": "3.6.0"
  }
 },
 "nbformat": 4,
 "nbformat_minor": 2
}
