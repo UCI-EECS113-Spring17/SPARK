{
 "cells": [
  {
   "cell_type": "code",
   "execution_count": null,
   "metadata": {
    "collapsed": true
   },
   "outputs": [],
   "source": [
    "pwm1 = Pmod_PWM(2,0)\n",
    "wheel1 = Pmod_IO(1, 0,\"out\")\n",
    "wheel2 = Pmod_IO(1, 1,\"out\")\n",
    "wheel3 = Pmod_IO(1, 2,\"out\")\n",
    "wheel4 = Pmod_IO(1, 3, \"out\")\n",
    "frequency1 = 50000\n",
    "dutyCycle1 = 50\n",
    "frequency2 = 50000\n",
    "dutyCycle2 = 98\n",
    "def forward():\n",
    "    wheel1.write(0)\n",
    "    wheel2.write(1)\n",
    "    wheel3.write(1)\n",
    "    wheel4.write(0)\n",
    "    pwm1.generate(frequency1,dutyCycle1)\n",
    "def turnRight():\n",
    "    time.sleep(1)\n",
    "    wheel1.write(0)\n",
    "    wheel2.write(1)\n",
    "    wheel3.write(0)\n",
    "    wheel4.write(1)\n",
    "    pwm1.generate(frequency2,dutyCycle2)\n",
    "    time.sleep(2.2)"
   ]
  },
  {
   "cell_type": "code",
   "execution_count": null,
   "metadata": {
    "collapsed": true
   },
   "outputs": [],
   "source": [
    "def backward():   \n",
    "    wheel1.write(1)\n",
    "    wheel2.write(0)\n",
    "    wheel3.write(0)\n",
    "    wheel4.write(1)\n",
    "    pwm1.generate(frequency1,dutyCycle1)\n",
    "    \n",
    "def forward():\n",
    "    wheel1.write(0)\n",
    "    wheel2.write(1)\n",
    "    wheel3.write(1)\n",
    "    wheel4.write(0)\n",
    "    pwm1.generate(frequency1,dutyCycle1)\n",
    "    \n",
    "def turnRight():\n",
    "    time.sleep(1)\n",
    "    wheel1.write(0)\n",
    "    wheel2.write(1)\n",
    "    wheel3.write(0)\n",
    "    wheel4.write(1)\n",
    "    pwm1.generate(frequency2,dutyCycle2)\n",
    "    time.sleep(2.2)\n",
    "    \n",
    "def turnLeft():\n",
    "    time.sleep(1)\n",
    "    wheel1.write(1)\n",
    "    wheel2.write(0)\n",
    "    wheel3.write(1)\n",
    "    wheel4.write(0)\n",
    "    pwm1.generate(frequency2,dutyCycle2)\n",
    "    time.sleep(2.2)\n",
    "    \n",
    "def stop():\n",
    "    wheel1.write(0)\n",
    "    wheel2.write(0)\n",
    "    wheel3.write(0)\n",
    "    wheel4.write(0)   "
   ]
  }
 ],
 "metadata": {
  "kernelspec": {
   "display_name": "Python 3",
   "language": "python",
   "name": "python3"
  },
  "language_info": {
   "codemirror_mode": {
    "name": "ipython",
    "version": 3
   },
   "file_extension": ".py",
   "mimetype": "text/x-python",
   "name": "python",
   "nbconvert_exporter": "python",
   "pygments_lexer": "ipython3",
   "version": "3.6.0"
  }
 },
 "nbformat": 4,
 "nbformat_minor": 2
}
